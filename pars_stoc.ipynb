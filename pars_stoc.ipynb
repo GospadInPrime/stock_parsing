{
 "cells": [
  {
   "cell_type": "code",
   "execution_count": 2,
   "metadata": {},
   "outputs": [],
   "source": [
    "import requests  # для URL запроса\n",
    "from bs4 import BeautifulSoup  # для работы с HTML\n",
    "import time  # для установки задержки в цикле программы"
   ]
  },
  {
   "cell_type": "code",
   "execution_count": 3,
   "metadata": {},
   "outputs": [],
   "source": [
    "sleep = 43200 # Обновление результата функции каждые 12 часов"
   ]
  },
  {
   "cell_type": "code",
   "execution_count": 4,
   "metadata": {},
   "outputs": [
    {
     "name": "stdout",
     "output_type": "stream",
     "text": [
      "Цена акций WHOOSH 257,6\n"
     ]
    }
   ],
   "source": [
    "def stock_price():\n",
    "    WHOOSH = 'https://quote.rbc.ru/ticker/339697'\n",
    "    \n",
    "    headers={\"User-Agent\": \"Mozilla/5.0 (Windows NT 10.0\"\n",
    "                       \"Win64; x64) AppleWebKit/537.36 (KHTML, like Gecko)\"\n",
    "                       \"Chrome/110.0.0.0 Safari/537.36\"}\n",
    "    html = requests.get(WHOOSH, headers=headers)\n",
    "    soup = BeautifulSoup(html.content, 'html.parser')\n",
    "    convert = soup.findAll('span', {'class': 'chart__info__sum'})\n",
    "    price = convert[0].text[1:].strip()\n",
    "\n",
    "    print('Цена акций WHOOSH', price)\n",
    "    time.sleep(sleep)\n",
    "    stock_price()\n",
    "\n",
    "stock_price()\n",
    " "
   ]
  }
 ],
 "metadata": {
  "kernelspec": {
   "display_name": "Python 3",
   "language": "python",
   "name": "python3"
  },
  "language_info": {
   "codemirror_mode": {
    "name": "ipython",
    "version": 3
   },
   "file_extension": ".py",
   "mimetype": "text/x-python",
   "name": "python",
   "nbconvert_exporter": "python",
   "pygments_lexer": "ipython3",
   "version": "3.11.1"
  },
  "orig_nbformat": 4
 },
 "nbformat": 4,
 "nbformat_minor": 2
}
